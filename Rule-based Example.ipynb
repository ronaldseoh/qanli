{
 "cells": [
  {
   "cell_type": "code",
   "execution_count": null,
   "metadata": {},
   "outputs": [],
   "source": [
    "import copy\n",
    "import codecs\n",
    "\n",
    "import sacremoses\n",
    "import conllu\n",
    "\n",
    "from rule import Question, AnswerSpan"
   ]
  },
  {
   "cell_type": "code",
   "execution_count": null,
   "metadata": {},
   "outputs": [],
   "source": [
    "detokenizer = sacremoses.MosesDetokenizer()"
   ]
  },
  {
   "cell_type": "markdown",
   "metadata": {},
   "source": [
    "## Parse conllu file"
   ]
  },
  {
   "cell_type": "code",
   "execution_count": null,
   "metadata": {},
   "outputs": [],
   "source": [
    "print('Parsing conllu file...')\n",
    "with codecs.open('examples.conllu', 'r', encoding='utf-8') as f:\n",
    "    conllu_file = conllu.parse(f.read())"
   ]
  },
  {
   "cell_type": "code",
   "execution_count": null,
   "metadata": {},
   "outputs": [],
   "source": [
    "# Creating dict\n",
    "ids = range(int(len(conllu_file)/2))\n",
    "examples = {}\n",
    "count = 0\n",
    "for i, s in enumerate(conllu_file):\n",
    "    if i % 2 == 0:\n",
    "        examples[ids[count]] = s\n",
    "    else:\n",
    "        examples[str(ids[count])+'_answer'] = s\n",
    "        count +=1"
   ]
  },
  {
   "cell_type": "markdown",
   "metadata": {},
   "source": [
    "## Perform transformation"
   ]
  },
  {
   "cell_type": "code",
   "execution_count": null,
   "metadata": {},
   "outputs": [],
   "source": [
    "def qa2d(idx):\n",
    "    q = Question(copy.deepcopy(examples[idx].tokens))\n",
    "    if not q.isvalid:\n",
    "        print(\"Question {} is not valid.\".format(idx))\n",
    "        return ''\n",
    "    a = AnswerSpan(copy.deepcopy(examples[str(idx)+'_answer'].tokens))\n",
    "    if not a.isvalid:\n",
    "        print(\"Answer span {} is not valid.\".format(idx))\n",
    "        return ''\n",
    "    q.insert_answer_default(a)\n",
    "    return detokenizer.detokenize(q.format_declr(), return_str=True)"
   ]
  },
  {
   "cell_type": "code",
   "execution_count": null,
   "metadata": {},
   "outputs": [],
   "source": [
    "def print_sentence(idx):\n",
    "    return detokenizer.detokenize([examples[idx].tokens[i]['form'] for i in range(len(examples[idx].tokens))], return_str=True)"
   ]
  },
  {
   "cell_type": "code",
   "execution_count": null,
   "metadata": {},
   "outputs": [],
   "source": [
    "total = int(len(examples.keys())/2)\n",
    "print(\"Transforming {} examples.\".format(total))\n",
    "for i in range(total):\n",
    "    out = qa2d(i)\n",
    "    print(print_sentence(i))\n",
    "    if out != '':\n",
    "        print(out)\n",
    "    print('----------')\n",
    " "
   ]
  },
  {
   "cell_type": "code",
   "execution_count": null,
   "metadata": {},
   "outputs": [],
   "source": []
  },
  {
   "cell_type": "code",
   "execution_count": null,
   "metadata": {},
   "outputs": [],
   "source": []
  }
 ],
 "metadata": {
  "kernelspec": {
   "display_name": "Python 3",
   "language": "python",
   "name": "python3"
  },
  "language_info": {
   "codemirror_mode": {
    "name": "ipython",
    "version": 3
   },
   "file_extension": ".py",
   "mimetype": "text/x-python",
   "name": "python",
   "nbconvert_exporter": "python",
   "pygments_lexer": "ipython3",
   "version": "3.7.9"
  }
 },
 "nbformat": 4,
 "nbformat_minor": 2
}
